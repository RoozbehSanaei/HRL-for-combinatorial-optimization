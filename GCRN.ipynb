{
  "nbformat": 4,
  "nbformat_minor": 0,
  "metadata": {
    "colab": {
      "name": "GCRN.ipynb",
      "version": "0.3.2",
      "provenance": [],
      "collapsed_sections": [
        "4gCGRXcVB6wv",
        "zbdJ9di1rMSf"
      ]
    },
    "kernelspec": {
      "name": "python3",
      "display_name": "Python 3"
    },
    "accelerator": "GPU"
  },
  "cells": [
    {
      "metadata": {
        "colab_type": "code",
        "outputId": "5d434095-b3ea-4f80-a04a-0d7b8e6a4360",
        "id": "VgYUmJ06hwqH",
        "colab": {
          "base_uri": "https://localhost:8080/",
          "height": 34
        }
      },
      "cell_type": "code",
      "source": [
        "from google.colab import drive\n",
        "drive.mount('/content/drive/')"
      ],
      "execution_count": 0,
      "outputs": [
        {
          "output_type": "stream",
          "text": [
            "Drive already mounted at /content/drive/; to attempt to forcibly remount, call drive.mount(\"/content/drive/\", force_remount=True).\n"
          ],
          "name": "stdout"
        }
      ]
    },
    {
      "metadata": {
        "id": "DdhDTKcuBZLb",
        "colab_type": "code",
        "outputId": "4c04e708-fc89-4b2c-c2fa-e39323c1cd5d",
        "colab": {
          "base_uri": "https://localhost:8080/",
          "height": 102
        }
      },
      "cell_type": "code",
      "source": [
        "import torch\n",
        "print(torch.__version__)\n",
        "! nvcc --version"
      ],
      "execution_count": 2,
      "outputs": [
        {
          "output_type": "stream",
          "text": [
            "1.0.1.post2\n",
            "nvcc: NVIDIA (R) Cuda compiler driver\n",
            "Copyright (c) 2005-2018 NVIDIA Corporation\n",
            "Built on Sat_Aug_25_21:08:01_CDT_2018\n",
            "Cuda compilation tools, release 10.0, V10.0.130\n"
          ],
          "name": "stdout"
        }
      ]
    },
    {
      "metadata": {
        "id": "SL8XhXG_HPUS",
        "colab_type": "code",
        "colab": {}
      },
      "cell_type": "code",
      "source": [
        "! pip install --verbose --no-cache-dir torch-scatter\n",
        "! pip install --verbose --no-cache-dir torch-sparse\n",
        "! pip install --verbose --no-cache-dir torch-cluster\n",
        "# ! pip install --verbose --no-cache-dir torch-spline-conv\n",
        "! pip install torch-geometric"
      ],
      "execution_count": 0,
      "outputs": []
    },
    {
      "metadata": {
        "id": "6Xz6NnkPBbhU",
        "colab_type": "text"
      },
      "cell_type": "markdown",
      "source": [
        "# Neural Net Model"
      ]
    },
    {
      "metadata": {
        "id": "o_m1ah-QQtrq",
        "colab_type": "code",
        "colab": {}
      },
      "cell_type": "code",
      "source": [
        "import torch\n",
        "import torch.nn as nn\n",
        "import torch.nn.functional as F\n",
        "import math\n",
        "from torch_geometric.nn import GCNConv\n",
        "\n",
        "class GCN(torch.nn.Module):\n",
        "    def __init__(self, n_feature, n_hidden, n_class):\n",
        "        super(GCN, self).__init__()\n",
        "        self.size = 0\n",
        "        self.batch_size = 0\n",
        "        self.dim = n_hidden\n",
        "        \n",
        "        v  = torch.FloatTensor(n_hidden).cuda()\n",
        "        h0 = torch.FloatTensor(n_hidden).cuda()\n",
        "        c0 = torch.FloatTensor(n_hidden).cuda()\n",
        "\n",
        "        self.v  = nn.Parameter(v)\n",
        "        self.h0 = nn.Parameter(h0)\n",
        "        self.c0 = nn.Parameter(c0)\n",
        "        self.v.data.uniform_(-1/math.sqrt(n_hidden), 1/math.sqrt(n_hidden))\n",
        "        self.h0.data.uniform_(-1/math.sqrt(n_hidden), 1/math.sqrt(n_hidden))\n",
        "        self.c0.data.uniform_(-1/math.sqrt(n_hidden), 1/math.sqrt(n_hidden))\n",
        "        \n",
        "        # embedding\n",
        "        self.embedding_x = nn.Linear(n_feature, n_hidden)\n",
        "        self.embedding_all = nn.Linear(n_feature, n_hidden)\n",
        "        self.encoder_ori = GCNConv(n_hidden, n_hidden)    # use GCN as encoder\n",
        "        self.encoder = GCNConv(n_hidden, n_hidden)    # use GCN as encoder\n",
        "        \n",
        "        \n",
        "        # parameters for input gate\n",
        "        self.Wxi = GCNConv(n_hidden, n_hidden)    # W(xt)\n",
        "        self.Whi = GCNConv(n_hidden, n_hidden)    # W(ht)\n",
        "        self.wci = nn.Linear(n_hidden, n_hidden)    # w(ct)\n",
        "        \n",
        "        # parameters for forget gate\n",
        "        self.Wxf = GCNConv(n_hidden, n_hidden)    # W(xt)\n",
        "        self.Whf = GCNConv(n_hidden, n_hidden)    # W(ht)\n",
        "        self.wcf = nn.Linear(n_hidden, n_hidden)    # w(ct)\n",
        "        \n",
        "        # parameters for cell gate\n",
        "        self.Wxc = GCNConv(n_hidden, n_hidden)    # W(xt)\n",
        "        self.Whc = GCNConv(n_hidden, n_hidden)    # W(ht)\n",
        "        \n",
        "        # parameters for forget gate\n",
        "        self.Wxo = GCNConv(n_hidden, n_hidden)    # W(xt)\n",
        "        self.Who = GCNConv(n_hidden, n_hidden)    # W(ht)\n",
        "        self.wco = nn.Linear(n_hidden, n_hidden)    # w(ct)\n",
        "        \n",
        "        # parameters for pointer attention\n",
        "        self.Wref = GCNConv(n_hidden, n_hidden)\n",
        "        self.Wq = nn.Linear(n_hidden, n_hidden)\n",
        "        \n",
        "        \n",
        "    def forward(self, x, edge_index, input, mask, h=None, c=None):\n",
        "        ''' args\n",
        "        x: current city (B, 2)\n",
        "        input: all cities (B*size, 2)\n",
        "        h: hidden variable (B, dim)\n",
        "        c: cell gate (B, dim)\n",
        "        context: encoded context, encoder(input) --> (B*size, dim)\n",
        "        '''\n",
        "        self.batch_size = x.size(0)\n",
        "        self.size = int(input.size(0) / self.batch_size)\n",
        "        # print(self.size)\n",
        "        \n",
        "        if h is None:\n",
        "            h = self.h0.unsqueeze(0).expand(self.batch_size, self.dim)\n",
        "        if c is None:\n",
        "            c = self.c0.unsqueeze(0).expand(self.batch_size, self.dim)\n",
        "\n",
        "        self_connect = edge_index[:,:0].clone()\n",
        "        alpha = 0.8\n",
        "        \n",
        "        # embedding\n",
        "        x = self.embedding_x(x)\n",
        "        context = self.embedding_all(input)\n",
        "        \n",
        "        context = (1-alpha) * self.encoder(context, edge_index)\\\n",
        "                + alpha * self.encoder_ori(context, self_connect)   # encode\n",
        "        # alpha*I*H*W0 + (1-alpha)*DAD*H*W1\n",
        "        \n",
        "        \n",
        "        # hidden variable does not have graph structure\n",
        "        # input gate\n",
        "        i = torch.sigmoid(self.Wxi(x,self_connect) + self.Whi(h,self_connect) + self.wci(c))\n",
        "        # forget gate\n",
        "        f = torch.sigmoid(self.Wxf(x,self_connect) + self.Whf(h,self_connect) + self.wcf(c))\n",
        "        # cell gate\n",
        "        c = f*c + i*torch.tanh(self.Wxc(x,self_connect) + self.Whc(h,self_connect))\n",
        "        # output gate\n",
        "        o = torch.sigmoid(self.Wxo(x,self_connect) + self.Who(h,self_connect) + self.wco(c))\n",
        "        h = o*torch.tanh(c)\n",
        "        \n",
        "        \n",
        "\n",
        "        # query and reference\n",
        "        q = h\n",
        "        ref = context\n",
        "        q = self.Wq(q)     # (B, dim)\n",
        "        ref = self.Wref(ref, self_connect)\n",
        "        ref = ref.view(self.batch_size, self.size, self.dim)  # (B, size, dim)\n",
        "        # print(ref.size())\n",
        "        \n",
        "        q_ex = q.unsqueeze(1).repeat(1, self.size, 1) # (B, size, dim)\n",
        "        # print(q.size())\n",
        "        # v_view: (B, dim, 1)\n",
        "        v_view = self.v.unsqueeze(0).expand(self.batch_size, self.dim).unsqueeze(2)\n",
        "        \n",
        "        # (B, size, dim) * (B, dim, 1)\n",
        "        u = torch.bmm(torch.tanh(q_ex + ref), v_view).squeeze(2)\n",
        "\n",
        "        u = 10*torch.tanh(u) + mask\n",
        "\n",
        "        return F.softmax(u, dim=1), h, c"
      ],
      "execution_count": 0,
      "outputs": []
    },
    {
      "metadata": {
        "id": "AK0m9iSCQyN9",
        "colab_type": "text"
      },
      "cell_type": "markdown",
      "source": [
        "# Training"
      ]
    },
    {
      "metadata": {
        "id": "tIwLQCrQQxwv",
        "colab_type": "code",
        "colab": {}
      },
      "cell_type": "code",
      "source": [
        "import numpy as np\n",
        "\n",
        "import torch.nn.functional as F\n",
        "import torch.optim as optim\n",
        "from torch.autograd import Variable\n",
        "from torch.optim import lr_scheduler\n",
        "from scipy.spatial.distance import squareform, pdist\n",
        "from sklearn.neighbors import NearestNeighbors"
      ],
      "execution_count": 0,
      "outputs": []
    },
    {
      "metadata": {
        "id": "l889RjHhUlU4",
        "colab_type": "code",
        "colab": {}
      },
      "cell_type": "code",
      "source": [
        "size = 50\n",
        "learn_rate = 1e-3\n",
        "beta = 0.8\n",
        "B = 128"
      ],
      "execution_count": 0,
      "outputs": []
    },
    {
      "metadata": {
        "id": "Y1CxhELRUk1u",
        "colab_type": "code",
        "colab": {}
      },
      "cell_type": "code",
      "source": [
        "model = GCN(n_feature=2,\n",
        "            n_hidden=128,\n",
        "            n_class=1)"
      ],
      "execution_count": 0,
      "outputs": []
    },
    {
      "metadata": {
        "id": "h3mvCONdJ1mI",
        "colab_type": "code",
        "colab": {}
      },
      "cell_type": "code",
      "source": [
        "model.cuda()\n",
        "\n",
        "learn_rate = 1e-3\n",
        "lr_decay_step = 3000\n",
        "lr_decay_rate = 0.96\n",
        "\n",
        "\n",
        "optimizer = optim.Adam(model.parameters(), lr=learn_rate)\n",
        "\n",
        "opt_scheduler = lr_scheduler.MultiStepLR(optimizer, range(lr_decay_step, 10000, 1000),\n",
        "                                         gamma=lr_decay_rate)\n"
      ],
      "execution_count": 0,
      "outputs": []
    },
    {
      "metadata": {
        "id": "r8jhYfRPBB7N",
        "colab_type": "code",
        "colab": {}
      },
      "cell_type": "code",
      "source": [
        "# using knn since if B=128, size=50, the size of E is 128*128*50*50\n",
        "# so use k-nearest neighboor to shrink the graph size\n",
        "\n",
        "def knn(X, B, size, N):\n",
        "    Y = X.reshape(B,size,2)\n",
        "    E = []\n",
        "    \n",
        "    for k in range(B):\n",
        "        nbrs = NearestNeighbors(n_neighbors=N, algorithm='ball_tree').fit(Y[k])\n",
        "        # G = nbrs.kneighbors_graph(Y[k]).toarray()\n",
        "        _, indices = nbrs.kneighbors(Y[k])\n",
        "\n",
        "        for i in range(size):\n",
        "            for n in range(N):\n",
        "                E.append([i+k*size, indices[i,n]+k*size])\n",
        "        \n",
        "    return E"
      ],
      "execution_count": 0,
      "outputs": []
    },
    {
      "metadata": {
        "id": "QVjNYAjPAOoQ",
        "colab_type": "code",
        "outputId": "c688df2c-62ca-4082-916a-f5ff97b0c1de",
        "colab": {
          "base_uri": "https://localhost:8080/",
          "height": 204
        }
      },
      "cell_type": "code",
      "source": [
        "B = 128    # batch_size\n",
        "C = 0     # baseline\n",
        "R = 0     # reward\n",
        "\n",
        "reward = 0\n",
        "for i in range(3000):\n",
        "    optimizer.zero_grad()\n",
        "\n",
        "    X = np.random.rand(B*size, 2)\n",
        "    K = knn(X, B, size, 5)    \n",
        "        \n",
        "    X = torch.Tensor(X).cuda()\n",
        "    mask = torch.zeros(B,size).cuda()\n",
        "\n",
        "    # k-nn edge\n",
        "    E = np.array(K).T\n",
        "    edge_index = torch.LongTensor(E).cuda()\n",
        "\n",
        "    R = 0\n",
        "    logprobs = 0\n",
        "    \n",
        "    Y = X.view(B,size,2)           # to the same batch size\n",
        "    x = Y[:,0,:]\n",
        "    h = None\n",
        "    c = None\n",
        "\n",
        "    for k in range(size):\n",
        "        \n",
        "        output, h, c = model(x=x, edge_index=edge_index, input=X, h=h, c=c, mask=mask)\n",
        "        \n",
        "        sampler = torch.distributions.Categorical(output)\n",
        "        idx = sampler.sample()         # now the idx has B elements\n",
        "\n",
        "        # print(output)\n",
        "        Y1 = Y[[i for i in range(B)], idx.data].clone()\n",
        "        if k == 0:\n",
        "            Y_ini = Y1.clone()\n",
        "        if k > 0:\n",
        "            reward = torch.norm(Y1-Y0, dim=1)\n",
        "            \n",
        "        Y0 = Y1.clone()\n",
        "        x = Y[[i for i in range(B)], idx.data].clone()\n",
        "        \n",
        "        R += reward\n",
        "            \n",
        "        TINY = 1e-15\n",
        "        logprobs += torch.log(output[[i for i in range(B)], idx.data]+TINY) \n",
        "        \n",
        "        mask[[i for i in range(B)], idx.data] += -np.inf \n",
        "        \n",
        "        \n",
        "    R += torch.norm(Y1-Y_ini, dim=1)\n",
        "    \n",
        "    if i == 0:\n",
        "        C = R.mean()\n",
        "    else:\n",
        "        C = (C * beta) + ((1. - beta) * R.mean())\n",
        "    \n",
        "    loss = ((R-C)*logprobs).mean()\n",
        "\n",
        "    loss.backward()\n",
        "    \n",
        "    max_grad_norm = 4.0\n",
        "    torch.nn.utils.clip_grad_norm_(model.parameters(),\n",
        "                                       max_grad_norm, norm_type=2)\n",
        "    optimizer.step()\n",
        "    opt_scheduler.step()\n",
        "    \n",
        "    if i % 50 == 0:\n",
        "        print(\"epoch:{}, loss:{}, reward:{}\"\n",
        "            .format(i,loss.item(),R.mean().item()))"
      ],
      "execution_count": 0,
      "outputs": [
        {
          "output_type": "stream",
          "text": [
            "epoch:0, loss:-3.925157308578491, reward:22.78050994873047\n",
            "epoch:50, loss:1.8348097801208496, reward:10.116782188415527\n",
            "epoch:100, loss:-0.9211317300796509, reward:8.541533470153809\n",
            "epoch:150, loss:-4.340392589569092, reward:8.422378540039062\n",
            "epoch:200, loss:0.31372666358947754, reward:8.087350845336914\n",
            "epoch:250, loss:-4.57519006729126, reward:8.372838020324707\n",
            "epoch:300, loss:-8.675603866577148, reward:8.368376731872559\n",
            "epoch:350, loss:-7.94425106048584, reward:8.186714172363281\n",
            "epoch:400, loss:0.43562081456184387, reward:7.808413028717041\n",
            "epoch:450, loss:-1.272653579711914, reward:8.072643280029297\n",
            "epoch:500, loss:-1.4694222211837769, reward:7.883309841156006\n"
          ],
          "name": "stdout"
        }
      ]
    }
  ]
}