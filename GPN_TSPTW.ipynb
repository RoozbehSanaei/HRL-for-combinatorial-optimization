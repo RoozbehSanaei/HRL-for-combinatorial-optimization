{
  "nbformat": 4,
  "nbformat_minor": 0,
  "metadata": {
    "colab": {
      "name": "GPN-TSPTW.ipynb",
      "version": "0.3.2",
      "provenance": [],
      "collapsed_sections": []
    },
    "kernelspec": {
      "name": "python3",
      "display_name": "Python 3"
    },
    "accelerator": "GPU"
  },
  "cells": [
    {
      "metadata": {
        "colab_type": "code",
        "id": "VgYUmJ06hwqH",
        "outputId": "096e40b1-a871-4fb2-b268-ed6348e4ff64",
        "colab": {
          "base_uri": "https://localhost:8080/",
          "height": 122
        }
      },
      "cell_type": "code",
      "source": [
        "from google.colab import drive\n",
        "drive.mount('/content/drive/')"
      ],
      "execution_count": 0,
      "outputs": [
        {
          "output_type": "stream",
          "text": [
            "Go to this URL in a browser: https://accounts.google.com/o/oauth2/auth?client_id=947318989803-6bn6qk8qdgf4n4g3pfee6491hc0brc4i.apps.googleusercontent.com&redirect_uri=urn%3Aietf%3Awg%3Aoauth%3A2.0%3Aoob&scope=email%20https%3A%2F%2Fwww.googleapis.com%2Fauth%2Fdocs.test%20https%3A%2F%2Fwww.googleapis.com%2Fauth%2Fdrive%20https%3A%2F%2Fwww.googleapis.com%2Fauth%2Fdrive.photos.readonly%20https%3A%2F%2Fwww.googleapis.com%2Fauth%2Fpeopleapi.readonly&response_type=code\n",
            "\n",
            "Enter your authorization code:\n",
            "··········\n",
            "Mounted at /content/drive/\n"
          ],
          "name": "stdout"
        }
      ]
    },
    {
      "metadata": {
        "id": "6Xz6NnkPBbhU",
        "colab_type": "text"
      },
      "cell_type": "markdown",
      "source": [
        "# Neural Net Model"
      ]
    },
    {
      "metadata": {
        "id": "BHWwRyM_SOza",
        "colab_type": "text"
      },
      "cell_type": "markdown",
      "source": [
        "## low layer"
      ]
    },
    {
      "metadata": {
        "id": "jxuOR6Ye-IAJ",
        "colab_type": "code",
        "colab": {}
      },
      "cell_type": "code",
      "source": [
        "import torch\n",
        "import torch.nn as nn\n",
        "import torch.nn.functional as F\n",
        "import math\n",
        "\n",
        "class GPN(torch.nn.Module):\n",
        "    def __init__(self, n_feature, n_hidden, n_class):\n",
        "        super(GPN, self).__init__()\n",
        "        self.size = 0\n",
        "        self.batch_size = 0\n",
        "        self.dim = n_hidden\n",
        "        \n",
        "        v  = torch.FloatTensor(n_hidden).cuda()\n",
        "        h0 = torch.FloatTensor(n_hidden).cuda()\n",
        "        c0 = torch.FloatTensor(n_hidden).cuda()\n",
        "        r1 = torch.ones(1).cuda()\n",
        "        r2 = torch.ones(1).cuda()\n",
        "        r3 = torch.ones(1).cuda()\n",
        "        gamma = torch.ones(1).cuda()\n",
        "        self.v  = nn.Parameter(v)\n",
        "        self.h0 = nn.Parameter(h0)\n",
        "        self.c0 = nn.Parameter(c0)\n",
        "        self.r1  = nn.Parameter(r1)\n",
        "        self.r2  = nn.Parameter(r2)\n",
        "        self.r3  = nn.Parameter(r3)\n",
        "        self.gamma = nn.Parameter(gamma)\n",
        "        self.v.data.uniform_(-1/math.sqrt(n_hidden), 1/math.sqrt(n_hidden))\n",
        "        self.h0.data.uniform_(-1/math.sqrt(n_hidden), 1/math.sqrt(n_hidden))\n",
        "        self.c0.data.uniform_(-1/math.sqrt(n_hidden), 1/math.sqrt(n_hidden))\n",
        "        \n",
        "        # embedding\n",
        "        self.embedding_x = nn.Linear(n_feature, n_hidden)\n",
        "        self.embedding_all = nn.Linear(n_feature, n_hidden)\n",
        "        # self.encoder_ori = GCNConv(n_hidden, n_hidden)    # use GCN as encoder\n",
        "        self.encoder_1 = nn.Linear(n_hidden, n_hidden)    # use GCN as encoder\n",
        "        self.encoder_2 = nn.Linear(n_hidden, n_hidden)    # use GCN as encoder        \n",
        "        self.encoder_3 = nn.Linear(n_hidden, n_hidden)    # use GCN as encoder\n",
        "        \n",
        "        self.enc_1 = nn.Linear(n_hidden, n_hidden)    # use GCN as encoder\n",
        "        self.enc_2 = nn.Linear(n_hidden, n_hidden)    # use GCN as encoder        \n",
        "        self.enc_3 = nn.Linear(n_hidden, n_hidden)    # use GCN as encoder\n",
        "                \n",
        "        # parameters for input gate\n",
        "        self.Wxi = nn.Linear(n_hidden, n_hidden)    # W(xt)\n",
        "        self.Whi = nn.Linear(n_hidden, n_hidden)    # W(ht)\n",
        "        self.wci = nn.Linear(n_hidden, n_hidden)    # w(ct)\n",
        "        \n",
        "        # parameters for forget gate\n",
        "        self.Wxf = nn.Linear(n_hidden, n_hidden)    # W(xt)\n",
        "        self.Whf = nn.Linear(n_hidden, n_hidden)    # W(ht)\n",
        "        self.wcf = nn.Linear(n_hidden, n_hidden)    # w(ct)\n",
        "        \n",
        "        # parameters for cell gate\n",
        "        self.Wxc = nn.Linear(n_hidden, n_hidden)    # W(xt)\n",
        "        self.Whc = nn.Linear(n_hidden, n_hidden)    # W(ht)\n",
        "        \n",
        "        # parameters for forget gate\n",
        "        self.Wxo = nn.Linear(n_hidden, n_hidden)    # W(xt)\n",
        "        self.Who = nn.Linear(n_hidden, n_hidden)    # W(ht)\n",
        "        self.wco = nn.Linear(n_hidden, n_hidden)    # w(ct)\n",
        "        \n",
        "        # parameters for pointer attention\n",
        "        self.Wref = nn.Linear(n_hidden, n_hidden)\n",
        "        self.Wq = nn.Linear(n_hidden, n_hidden)\n",
        "        \n",
        "        \n",
        "    def forward(self, x, input, mask, h=None, c=None):\n",
        "        ''' args\n",
        "        x: current city (B, 2)\n",
        "        input: all cities (B*size, 2)\n",
        "        h: hidden variable (B, dim)\n",
        "        c: cell gate (B, dim)\n",
        "        context: encoded context, encoder(input) --> (B*size, dim)\n",
        "        '''\n",
        "        self.batch_size = x.size(0)\n",
        "        self.size = int(input.size(0) / self.batch_size)\n",
        "        \n",
        "        if h is None:\n",
        "            h = self.h0.unsqueeze(0).expand(self.batch_size, self.dim)\n",
        "        if c is None:\n",
        "            c = self.c0.unsqueeze(0).expand(self.batch_size, self.dim)\n",
        "\n",
        "\n",
        "        x = self.embedding_x(x)\n",
        "        context = self.embedding_all(input)\n",
        "        \n",
        "        context = self.enc_1(context) + F.relu(self.encoder_1(context))\n",
        "        # context = self.enc_2(context) + F.relu(self.encoder_2(context))\n",
        "        # context = self.enc_3(context) + F.relu(self.encoder_3(context))\n",
        "                \n",
        "        # hidden variable does not have graph structure\n",
        "        # input gate\n",
        "        i = torch.sigmoid(self.Wxi(x) + self.Whi(h) + self.wci(c))\n",
        "        # forget gate\n",
        "        f = torch.sigmoid(self.Wxf(x) + self.Whf(h) + self.wcf(c))\n",
        "        # cell gate\n",
        "        c = f*c + i*torch.tanh(self.Wxc(x) + self.Whc(h))\n",
        "        # output gate\n",
        "        o = torch.sigmoid(self.Wxo(x) + self.Who(h) + self.wco(c))\n",
        "        h = o*torch.tanh(c)\n",
        "        \n",
        "\n",
        "        # query and reference\n",
        "        q = h\n",
        "        ref = context\n",
        "        q = self.Wq(q)     # (B, dim)\n",
        "        ref = self.Wref(ref)\n",
        "        ref = ref.view(self.batch_size, self.size, self.dim)  # (B, size, dim)\n",
        "        \n",
        "        q_ex = q.unsqueeze(1).repeat(1, self.size, 1) # (B, size, dim)\n",
        "        # v_view: (B, dim, 1)\n",
        "        v_view = self.v.unsqueeze(0).expand(self.batch_size, self.dim).unsqueeze(2)\n",
        "        \n",
        "        # (B, size, dim) * (B, dim, 1)\n",
        "        u = torch.bmm(torch.tanh(q_ex + ref), v_view).squeeze(2)\n",
        "        hidden_u = u.clone()\n",
        "        u = 10*torch.tanh(u) + mask\n",
        "        return F.softmax(u, dim=1), h, c, hidden_u"
      ],
      "execution_count": 0,
      "outputs": []
    },
    {
      "metadata": {
        "id": "cict1wwjSRQp",
        "colab_type": "text"
      },
      "cell_type": "markdown",
      "source": [
        "## high layer"
      ]
    },
    {
      "metadata": {
        "id": "8fm1WeuQtTx4",
        "colab_type": "code",
        "colab": {}
      },
      "cell_type": "code",
      "source": [
        "import torch\n",
        "import torch.nn as nn\n",
        "import torch.nn.functional as F\n",
        "import math\n",
        "\n",
        "class GPN_High(torch.nn.Module):\n",
        "    def __init__(self, n_feature, n_hidden, n_class):\n",
        "        super(GPN_High, self).__init__()\n",
        "        self.size = 0\n",
        "        self.batch_size = 0\n",
        "        self.dim = n_hidden\n",
        "        \n",
        "        v  = torch.FloatTensor(n_hidden).cuda()\n",
        "        h0 = torch.FloatTensor(n_hidden).cuda()\n",
        "        c0 = torch.FloatTensor(n_hidden).cuda()\n",
        "        r1 = torch.ones(1).cuda()\n",
        "        r2 = torch.ones(1).cuda()\n",
        "        r3 = torch.ones(1).cuda()\n",
        "        gamma = torch.ones(1).cuda()\n",
        "        self.v  = nn.Parameter(v)\n",
        "        self.h0 = nn.Parameter(h0)\n",
        "        self.c0 = nn.Parameter(c0)\n",
        "        self.r1  = nn.Parameter(r1)\n",
        "        self.r2  = nn.Parameter(r2)\n",
        "        self.r3  = nn.Parameter(r3)\n",
        "        self.gamma = nn.Parameter(gamma)\n",
        "        self.v.data.uniform_(-1/math.sqrt(n_hidden), 1/math.sqrt(n_hidden))\n",
        "        self.h0.data.uniform_(-1/math.sqrt(n_hidden), 1/math.sqrt(n_hidden))\n",
        "        self.c0.data.uniform_(-1/math.sqrt(n_hidden), 1/math.sqrt(n_hidden))\n",
        "        \n",
        "        # embedding\n",
        "        self.embedding_x = nn.Linear(n_feature, n_hidden)\n",
        "        self.embedding_all = nn.Linear(n_feature, n_hidden)\n",
        "        # self.encoder_ori = GCNConv(n_hidden, n_hidden)    # use GCN as encoder\n",
        "        self.encoder_1 = nn.Linear(n_hidden, n_hidden)    # use GCN as encoder\n",
        "        self.encoder_2 = nn.Linear(n_hidden, n_hidden)    # use GCN as encoder        \n",
        "        self.encoder_3 = nn.Linear(n_hidden, n_hidden)    # use GCN as encoder\n",
        "        \n",
        "        self.enc_1 = nn.Linear(n_hidden, n_hidden)    # use GCN as encoder\n",
        "        self.enc_2 = nn.Linear(n_hidden, n_hidden)    # use GCN as encoder        \n",
        "        self.enc_3 = nn.Linear(n_hidden, n_hidden)    # use GCN as encoder\n",
        "                \n",
        "        # parameters for input gate\n",
        "        self.Wxi = nn.Linear(n_hidden, n_hidden)    # W(xt)\n",
        "        self.Whi = nn.Linear(n_hidden, n_hidden)    # W(ht)\n",
        "        self.wci = nn.Linear(n_hidden, n_hidden)    # w(ct)\n",
        "        \n",
        "        # parameters for forget gate\n",
        "        self.Wxf = nn.Linear(n_hidden, n_hidden)    # W(xt)\n",
        "        self.Whf = nn.Linear(n_hidden, n_hidden)    # W(ht)\n",
        "        self.wcf = nn.Linear(n_hidden, n_hidden)    # w(ct)\n",
        "        \n",
        "        # parameters for cell gate\n",
        "        self.Wxc = nn.Linear(n_hidden, n_hidden)    # W(xt)\n",
        "        self.Whc = nn.Linear(n_hidden, n_hidden)    # W(ht)\n",
        "        \n",
        "        # parameters for forget gate\n",
        "        self.Wxo = nn.Linear(n_hidden, n_hidden)    # W(xt)\n",
        "        self.Who = nn.Linear(n_hidden, n_hidden)    # W(ht)\n",
        "        self.wco = nn.Linear(n_hidden, n_hidden)    # w(ct)\n",
        "        \n",
        "        # parameters for pointer attention\n",
        "        self.Wref = nn.Linear(n_hidden, n_hidden)\n",
        "        self.Wq = nn.Linear(n_hidden, n_hidden)\n",
        "        \n",
        "        \n",
        "    def forward(self, x, input, mask, latent, h=None, c=None):\n",
        "        ''' args\n",
        "        x: current city (B, 2)\n",
        "        input: all cities (B*size, 2)\n",
        "        h: hidden variable (B, dim)\n",
        "        c: cell gate (B, dim)\n",
        "        context: encoded context, encoder(input) --> (B*size, dim)\n",
        "        '''\n",
        "        self.batch_size = x.size(0)\n",
        "        self.size = int(input.size(0) / self.batch_size)\n",
        "        # print(self.size)\n",
        "        \n",
        "        if h is None:\n",
        "            h = self.h0.unsqueeze(0).expand(self.batch_size, self.dim)\n",
        "        if c is None:\n",
        "            c = self.c0.unsqueeze(0).expand(self.batch_size, self.dim)\n",
        "\n",
        "\n",
        "        x = self.embedding_x(x)\n",
        "        context = self.embedding_all(input)\n",
        "        \n",
        "        context = self.enc_1(context) + F.relu(self.encoder_1(context))\n",
        "        # context = self.enc_2(context) + F.relu(self.encoder_2(context))\n",
        "        # context = self.enc_3(context) + F.relu(self.encoder_3(context))\n",
        "                \n",
        "        # hidden variable does not have graph structure\n",
        "        # input gate\n",
        "        i = torch.sigmoid(self.Wxi(x) + self.Whi(h) + self.wci(c))\n",
        "        # forget gate\n",
        "        f = torch.sigmoid(self.Wxf(x) + self.Whf(h) + self.wcf(c))\n",
        "        # cell gate\n",
        "        c = f*c + i*torch.tanh(self.Wxc(x) + self.Whc(h))\n",
        "        # output gate\n",
        "        o = torch.sigmoid(self.Wxo(x) + self.Who(h) + self.wco(c))\n",
        "        h = o*torch.tanh(c)\n",
        "        \n",
        "\n",
        "        # query and reference\n",
        "        q = h\n",
        "        ref = context\n",
        "        q = self.Wq(q)     # (B, dim)\n",
        "        ref = self.Wref(ref)\n",
        "        ref = ref.view(self.batch_size, self.size, self.dim)  # (B, size, dim)\n",
        "        \n",
        "        q_ex = q.unsqueeze(1).repeat(1, self.size, 1) # (B, size, dim)\n",
        "        # v_view: (B, dim, 1)\n",
        "        v_view = self.v.unsqueeze(0).expand(self.batch_size, self.dim).unsqueeze(2)\n",
        "        \n",
        "        # (B, size, dim) * (B, dim, 1)\n",
        "        u = torch.bmm(torch.tanh(q_ex + ref), v_view).squeeze(2)\n",
        "        u = 10*torch.tanh(u) + mask + self.gamma * latent\n",
        "        return F.softmax(u, dim=1), h, c"
      ],
      "execution_count": 0,
      "outputs": []
    },
    {
      "metadata": {
        "id": "AK0m9iSCQyN9",
        "colab_type": "text"
      },
      "cell_type": "markdown",
      "source": [
        "# Training"
      ]
    },
    {
      "metadata": {
        "id": "tIwLQCrQQxwv",
        "colab_type": "code",
        "colab": {}
      },
      "cell_type": "code",
      "source": [
        "import numpy as np\n",
        "\n",
        "import torch.nn.functional as F\n",
        "import torch.optim as optim\n",
        "from torch.autograd import Variable\n",
        "from torch.optim import lr_scheduler\n",
        "from scipy.spatial.distance import squareform, pdist\n",
        "from sklearn.neighbors import NearestNeighbors\n",
        "import matplotlib.pyplot as plt"
      ],
      "execution_count": 0,
      "outputs": []
    },
    {
      "metadata": {
        "id": "J9R2F6MotL2O",
        "colab_type": "code",
        "colab": {}
      },
      "cell_type": "code",
      "source": [
        "model_low = torch.load('drive/My Drive/GCN-CO/model/0420/TSP50.pt')"
      ],
      "execution_count": 0,
      "outputs": []
    },
    {
      "metadata": {
        "id": "l889RjHhUlU4",
        "colab_type": "code",
        "colab": {}
      },
      "cell_type": "code",
      "source": [
        "size = 50\n",
        "\n",
        "learn_rate = 1e-3\n",
        "beta = 0.8\n",
        "B = 128"
      ],
      "execution_count": 0,
      "outputs": []
    },
    {
      "metadata": {
        "id": "Y1CxhELRUk1u",
        "colab_type": "code",
        "colab": {}
      },
      "cell_type": "code",
      "source": [
        "model_high = GPN_High(n_feature=3,\n",
        "            n_hidden=128,\n",
        "            n_class=1)"
      ],
      "execution_count": 0,
      "outputs": []
    },
    {
      "metadata": {
        "id": "h3mvCONdJ1mI",
        "colab_type": "code",
        "colab": {}
      },
      "cell_type": "code",
      "source": [
        "model_high.cuda()\n",
        "model_low.cuda()\n",
        "\n",
        "learn_rate = 1e-3\n",
        "lr_decay_step = 5000\n",
        "lr_decay_rate = 0.96\n",
        "\n",
        "\n",
        "optimizer = optim.Adam(model_high.parameters(), lr=learn_rate)\n",
        "\n",
        "opt_scheduler = lr_scheduler.MultiStepLR(optimizer, range(lr_decay_step, lr_decay_step*1000,\n",
        "                                         lr_decay_step), gamma=lr_decay_rate)"
      ],
      "execution_count": 0,
      "outputs": []
    },
    {
      "metadata": {
        "id": "RvqZdJMFrvJ0",
        "colab_type": "text"
      },
      "cell_type": "markdown",
      "source": [
        "# TSPTW"
      ]
    },
    {
      "metadata": {
        "id": "gMbBd5IY7qdb",
        "colab_type": "code",
        "outputId": "24d53c15-22fb-4ae1-b9ce-7725d2b04174",
        "colab": {
          "base_uri": "https://localhost:8080/",
          "height": 51
        }
      },
      "cell_type": "code",
      "source": [
        "X = np.random.rand(B*size, 2)\n",
        "Time = 5*np.random.rand(B*size,1)\n",
        "print(X.shape,Time.shape)\n",
        "Z = np.concatenate((X, Time), axis=1)\n",
        "print(Z.shape)"
      ],
      "execution_count": 0,
      "outputs": [
        {
          "output_type": "stream",
          "text": [
            "(6400, 2) (6400, 1)\n",
            "(6400, 3)\n"
          ],
          "name": "stdout"
        }
      ]
    },
    {
      "metadata": {
        "id": "2WDytFpNuCzX",
        "colab_type": "code",
        "outputId": "59846671-7d46-4e3a-dff3-f2f502ee0329",
        "colab": {
          "base_uri": "https://localhost:8080/",
          "height": 1717
        }
      },
      "cell_type": "code",
      "source": [
        "# consider time information\n",
        "\n",
        "B = 128    # batch_size\n",
        "C = 0     # baseline\n",
        "R = 0     # reward\n",
        "\n",
        "model_low.eval()\n",
        "model_high.train()\n",
        "\n",
        "reward = 0\n",
        "for i in range(5000):\n",
        "    optimizer.zero_grad()\n",
        "\n",
        "    X = np.random.rand(B*size, 2)\n",
        "    Time = 5*np.random.rand(B*size,1)\n",
        "    Time = Time.reshape(B,size,1)\n",
        "    Time[:,0] = 0\n",
        "    Time = Time.reshape(B*size,1)\n",
        "\n",
        "    X = np.concatenate((X, Time), axis=1)\n",
        "    \n",
        "    X = torch.Tensor(X).cuda()\n",
        "    Time = torch.Tensor(Time).cuda()\n",
        "    mask = torch.zeros(B,size).cuda()\n",
        "\n",
        "    reward = 0\n",
        "    R = torch.zeros(B).cuda()\n",
        "    logprobs = 0\n",
        "    time_cost = torch.zeros(B).cuda()\n",
        "    total_time_cost = torch.zeros(B).cuda()\n",
        "    T = torch.zeros(B).cuda()\n",
        "   \n",
        "    \n",
        "    Y = X.view(B,size,3)           # to the same batch size\n",
        "    Time = Time.view(B,size)\n",
        "    x = Y[:,0,:]\n",
        "    h = None\n",
        "    c = None\n",
        "\n",
        "    # print(Y.size())\n",
        "    \n",
        "    for k in range(size):\n",
        "        \n",
        "        output, h, c, hidden_u = model_low(x=x[:,:2], input=X[:,:2], h=h, c=c, mask=mask)\n",
        "        # hidden_u = 0\n",
        "        output, h, c = model_high(x=x, input=X, h=h, c=c, mask=mask, latent=hidden_u)\n",
        "        \n",
        "        sampler = torch.distributions.Categorical(output)\n",
        "        # idx = torch.argmax(output, dim=1)\n",
        "        idx = sampler.sample()         # now the idx has B elements\n",
        "\n",
        "        # print(output)\n",
        "        \n",
        "        Y1 = Y[[i for i in range(B)], idx.data]\n",
        "\n",
        "        \n",
        "        if k == 0:\n",
        "            Y_ini = Y1.clone()\n",
        "        if k > 0:\n",
        "            reward = torch.norm(Y1[:,:2]-Y0[:,:2], dim=1)\n",
        "\n",
        "        # print(\"test\")\n",
        "        Y0 = Y1.clone()\n",
        "        x = Y[[i for i in range(B)], idx.data]\n",
        "        \n",
        "        R += reward\n",
        "        total_time_cost += reward\n",
        "        \n",
        "        # enter time\n",
        "        time = Time[[i for i in range(B)], idx.data]\n",
        "        # determine the total reward and current enter time\n",
        "        time_cost = torch.lt(total_time_cost, time).float()*(time - total_time_cost)  \n",
        "        \n",
        "        total_time_cost += time_cost\n",
        "        T += time_cost     # total time cost\n",
        "\n",
        "        TINY = 1e-15\n",
        "        logprobs += torch.log(output[[i for i in range(B)], idx.data]+TINY) \n",
        "        \n",
        "        mask[[i for i in range(B)], idx.data] += -np.inf \n",
        "       \n",
        "\n",
        "    R += torch.norm(Y1[:,:2]-Y_ini[:,:2], dim=1)\n",
        "    \n",
        "    if i == 0:\n",
        "        C = total_time_cost.mean()\n",
        "    else:\n",
        "        C = (total_time_cost * beta) + ((1. - beta) * total_time_cost.mean())\n",
        "    \n",
        "    loss = ((total_time_cost-C)*logprobs).mean()\n",
        "\n",
        "    loss.backward()\n",
        "    \n",
        "    max_grad_norm = 1.0\n",
        "    torch.nn.utils.clip_grad_norm_(model_low.parameters(),\n",
        "                                       max_grad_norm, norm_type=2)\n",
        "    optimizer.step()\n",
        "    opt_scheduler.step()\n",
        "    \n",
        "    if i % 50 == 0:\n",
        "        print(\"epoch:{}, loss:{}, reward:{}, time:{}\"\n",
        "            .format(i,loss.item(),R.mean().item(), T.mean().item()))"
      ],
      "execution_count": 0,
      "outputs": [
        {
          "output_type": "stream",
          "text": [
            "epoch:0, loss:-0.5635337829589844, reward:9.112625122070312, time:0.6236771941184998\n",
            "epoch:50, loss:-0.03489159047603607, reward:8.654573440551758, time:1.0510509014129639\n",
            "epoch:100, loss:-0.12127609550952911, reward:8.743059158325195, time:0.8178374767303467\n",
            "epoch:150, loss:-0.04674021154642105, reward:8.853475570678711, time:0.733428955078125\n",
            "epoch:200, loss:-0.10001125931739807, reward:9.05912971496582, time:0.5542683005332947\n",
            "epoch:250, loss:-0.042808376252651215, reward:9.033817291259766, time:0.6222018003463745\n",
            "epoch:300, loss:-0.04344319552183151, reward:8.961321830749512, time:0.8123394250869751\n",
            "epoch:350, loss:-0.1761457920074463, reward:8.967403411865234, time:0.7493728399276733\n",
            "epoch:400, loss:-0.0811735987663269, reward:8.890156745910645, time:0.7346435785293579\n",
            "epoch:450, loss:-0.0596654936671257, reward:8.875138282775879, time:0.6490026116371155\n",
            "epoch:500, loss:-0.11659561097621918, reward:9.208836555480957, time:0.5808483362197876\n",
            "epoch:550, loss:-0.0928509309887886, reward:8.932666778564453, time:0.8298534154891968\n",
            "epoch:600, loss:-0.0524151436984539, reward:8.510120391845703, time:1.162402868270874\n",
            "epoch:650, loss:-0.12722988426685333, reward:8.916303634643555, time:0.8190017938613892\n",
            "epoch:700, loss:-0.08490787446498871, reward:8.387847900390625, time:1.2225828170776367\n",
            "epoch:750, loss:-0.14278855919837952, reward:8.963871002197266, time:0.7153630256652832\n",
            "epoch:800, loss:-0.03347434103488922, reward:8.791842460632324, time:0.7384847402572632\n",
            "epoch:850, loss:-0.03585170954465866, reward:8.806673049926758, time:0.7105007171630859\n",
            "epoch:900, loss:-0.15803056955337524, reward:8.782690048217773, time:0.7297488451004028\n",
            "epoch:950, loss:-0.10664328187704086, reward:8.677019119262695, time:0.9932083487510681\n",
            "epoch:1000, loss:-0.1031683087348938, reward:8.747486114501953, time:0.9692719578742981\n",
            "epoch:1050, loss:-0.09759443998336792, reward:9.063064575195312, time:0.580978512763977\n",
            "epoch:1100, loss:-0.1600848138332367, reward:8.765963554382324, time:0.9560766816139221\n",
            "epoch:1150, loss:-0.09278318285942078, reward:8.682710647583008, time:0.8357343077659607\n",
            "epoch:1200, loss:-0.0013828426599502563, reward:8.632381439208984, time:0.8592376708984375\n",
            "epoch:1250, loss:-0.10523693263530731, reward:8.658557891845703, time:0.8926814794540405\n",
            "epoch:1300, loss:-0.12389063090085983, reward:9.003210067749023, time:0.6148272156715393\n",
            "epoch:1350, loss:-0.06243058666586876, reward:9.04667854309082, time:0.5830898284912109\n",
            "epoch:1400, loss:-0.04717152193188667, reward:8.849627494812012, time:0.805357038974762\n",
            "epoch:1450, loss:-0.20492687821388245, reward:8.89620590209961, time:0.8552446365356445\n",
            "epoch:1500, loss:-0.03358153998851776, reward:8.945140838623047, time:0.7700551748275757\n",
            "epoch:1550, loss:-0.09499255567789078, reward:8.832075119018555, time:0.8205121755599976\n",
            "epoch:1600, loss:-0.09116586297750473, reward:8.795154571533203, time:0.6554267406463623\n",
            "epoch:1650, loss:-0.11398519575595856, reward:9.048820495605469, time:0.5155866742134094\n",
            "epoch:1700, loss:-0.15059001743793488, reward:9.052688598632812, time:0.5349957942962646\n",
            "epoch:1750, loss:-0.1372184455394745, reward:9.049918174743652, time:0.6176662445068359\n",
            "epoch:1800, loss:-0.13550613820552826, reward:8.8087797164917, time:0.8061460256576538\n",
            "epoch:1850, loss:-0.0213179811835289, reward:8.891910552978516, time:0.6810145378112793\n",
            "epoch:1900, loss:-0.06060586869716644, reward:8.918651580810547, time:0.6411097049713135\n",
            "epoch:1950, loss:-0.09891600906848907, reward:8.923828125, time:0.69578617811203\n",
            "epoch:2000, loss:-0.06275218725204468, reward:8.95689582824707, time:0.5658798813819885\n",
            "epoch:2050, loss:-0.11416131258010864, reward:8.734716415405273, time:0.8323589563369751\n",
            "epoch:2100, loss:-0.08405698090791702, reward:8.993157386779785, time:0.6838529109954834\n",
            "epoch:2150, loss:-0.14514678716659546, reward:8.941850662231445, time:0.6441011428833008\n",
            "epoch:2200, loss:-0.16426804661750793, reward:9.05589485168457, time:0.5920640230178833\n",
            "epoch:2250, loss:-0.06752412021160126, reward:8.866586685180664, time:0.6008732914924622\n",
            "epoch:2300, loss:-0.06918899714946747, reward:8.704383850097656, time:0.9676716923713684\n",
            "epoch:2350, loss:-0.07058773934841156, reward:8.82143497467041, time:0.7670353651046753\n",
            "epoch:2400, loss:-0.05848565697669983, reward:8.87424373626709, time:0.7740436792373657\n",
            "epoch:2450, loss:-0.11992520093917847, reward:8.900223731994629, time:0.7352457046508789\n",
            "epoch:2500, loss:-0.1749691218137741, reward:8.902121543884277, time:0.683015763759613\n",
            "epoch:2550, loss:-0.06190435588359833, reward:8.967233657836914, time:0.6267620325088501\n",
            "epoch:2600, loss:-0.08369515836238861, reward:8.875661849975586, time:0.7675507068634033\n",
            "epoch:2650, loss:-0.1630706787109375, reward:8.84705924987793, time:0.8345162868499756\n",
            "epoch:2700, loss:-0.0092984139919281, reward:9.111949920654297, time:0.6135114431381226\n",
            "epoch:2750, loss:-0.16354578733444214, reward:9.081850051879883, time:0.5794411897659302\n",
            "epoch:2800, loss:-0.04701709374785423, reward:8.847454071044922, time:0.6980524659156799\n",
            "epoch:2850, loss:-0.013745903968811035, reward:8.6673583984375, time:0.9215983748435974\n",
            "epoch:2900, loss:-0.10398997366428375, reward:8.6686429977417, time:0.8005019426345825\n",
            "epoch:2950, loss:-0.11781647056341171, reward:8.65434455871582, time:0.936253547668457\n",
            "epoch:3000, loss:-0.04914351552724838, reward:8.650622367858887, time:0.8790426254272461\n",
            "epoch:3050, loss:-0.10199323296546936, reward:8.98037338256836, time:0.5582394599914551\n",
            "epoch:3100, loss:-0.07593823224306107, reward:8.503681182861328, time:1.1256253719329834\n",
            "epoch:3150, loss:-0.05250772088766098, reward:8.837794303894043, time:0.7143948078155518\n",
            "epoch:3200, loss:-0.14625421166419983, reward:8.828633308410645, time:0.7558512687683105\n",
            "epoch:3250, loss:-0.0792405903339386, reward:8.720843315124512, time:0.864219069480896\n",
            "epoch:3300, loss:-0.1072240099310875, reward:8.633138656616211, time:1.0284255743026733\n",
            "epoch:3350, loss:-0.1131829172372818, reward:8.647789001464844, time:0.9115370512008667\n",
            "epoch:3400, loss:-0.08459718525409698, reward:8.832234382629395, time:0.6702319383621216\n",
            "epoch:3450, loss:-0.10764221101999283, reward:9.106353759765625, time:0.5510483384132385\n",
            "epoch:3500, loss:-0.11048790067434311, reward:8.788463592529297, time:0.8448485136032104\n",
            "epoch:3550, loss:-0.06024862080812454, reward:8.849193572998047, time:0.6575841903686523\n",
            "epoch:3600, loss:-0.06686222553253174, reward:8.63388442993164, time:0.9995033740997314\n",
            "epoch:3650, loss:-0.1208692342042923, reward:8.857743263244629, time:0.7093453407287598\n",
            "epoch:3700, loss:-0.11312463134527206, reward:8.86367416381836, time:0.757157564163208\n",
            "epoch:3750, loss:-0.07143333554267883, reward:8.732383728027344, time:0.8386166095733643\n",
            "epoch:3800, loss:-0.07936899363994598, reward:8.843174934387207, time:0.8409878611564636\n",
            "epoch:3850, loss:-0.06484765559434891, reward:8.799470901489258, time:0.8135070204734802\n",
            "epoch:3900, loss:-0.09852610528469086, reward:8.895376205444336, time:0.684874415397644\n",
            "epoch:3950, loss:-0.048286519944667816, reward:8.960168838500977, time:0.6344684958457947\n",
            "epoch:4000, loss:-0.092548668384552, reward:8.955897331237793, time:0.6811671257019043\n",
            "epoch:4050, loss:-0.13661867380142212, reward:8.880826950073242, time:0.5931400060653687\n",
            "epoch:4100, loss:-0.1092352569103241, reward:8.643815040588379, time:0.9844122529029846\n",
            "epoch:4150, loss:-0.07912304997444153, reward:8.694469451904297, time:0.9451181888580322\n",
            "epoch:4200, loss:-0.15413469076156616, reward:8.660812377929688, time:0.8905932307243347\n",
            "epoch:4250, loss:-0.06282613426446915, reward:8.746149063110352, time:0.7942360639572144\n",
            "epoch:4300, loss:-0.026885904371738434, reward:8.911535263061523, time:0.6589419841766357\n",
            "epoch:4350, loss:0.014763601124286652, reward:8.568220138549805, time:0.9578315019607544\n",
            "epoch:4400, loss:-0.14085274934768677, reward:8.870918273925781, time:0.7608169317245483\n",
            "epoch:4450, loss:-0.07291917502880096, reward:8.83354377746582, time:0.7281978130340576\n",
            "epoch:4500, loss:-0.0881900042295456, reward:8.901152610778809, time:0.6890379190444946\n",
            "epoch:4550, loss:-0.019869375973939896, reward:8.630209922790527, time:0.9335203170776367\n",
            "epoch:4600, loss:-0.0390123575925827, reward:8.653127670288086, time:0.8833146095275879\n",
            "epoch:4650, loss:0.03238852322101593, reward:8.788601875305176, time:0.6800191402435303\n",
            "epoch:4700, loss:-0.03223256766796112, reward:8.739492416381836, time:0.8673750758171082\n",
            "epoch:4750, loss:-0.09341800212860107, reward:8.981427192687988, time:0.6944162845611572\n",
            "epoch:4800, loss:-0.1373763382434845, reward:8.950793266296387, time:0.647646963596344\n",
            "epoch:4850, loss:-0.153321772813797, reward:9.146354675292969, time:0.4629411995410919\n",
            "epoch:4900, loss:-0.087690070271492, reward:8.997803688049316, time:0.6091476678848267\n",
            "epoch:4950, loss:-0.09135127067565918, reward:8.798588752746582, time:0.7804281711578369\n"
          ],
          "name": "stdout"
        }
      ]
    },
    {
      "metadata": {
        "id": "NU8ziGXUFqks",
        "colab_type": "code",
        "colab": {}
      },
      "cell_type": "code",
      "source": [
        ""
      ],
      "execution_count": 0,
      "outputs": []
    },
    {
      "metadata": {
        "id": "sHHdTXTSS_MY",
        "colab_type": "text"
      },
      "cell_type": "markdown",
      "source": [
        "# Inference"
      ]
    },
    {
      "metadata": {
        "id": "a-XCHqoELuNF",
        "colab_type": "code",
        "outputId": "e671a0bb-8f16-4cb2-e22a-375d25e9a63d",
        "colab": {
          "base_uri": "https://localhost:8080/",
          "height": 918
        }
      },
      "cell_type": "code",
      "source": [
        "B = 1\n",
        "size = 50\n",
        "\n",
        "X = np.random.rand(B*size, 2)\n",
        "Time = 5*np.random.rand(B*size,1)\n",
        "Time = Time.reshape(B,size,1)\n",
        "Time[:,0] = 0\n",
        "Time = Time.reshape(B*size,1)\n",
        "X = np.concatenate((X,Time), axis=1)\n",
        "\n",
        "time_cost = 0\n",
        "total_time_cost = torch.zeros(B).cuda()\n",
        "X = torch.Tensor(X).cuda()\n",
        "Time = torch.Tensor(Time).cuda()\n",
        "mask = torch.zeros(B,size).cuda()\n",
        " \n",
        "R = torch.zeros(B).cuda()\n",
        "logprobs = 0\n",
        "reward = 0\n",
        "\n",
        "solution = []\n",
        "T = 0\n",
        "Y = X.view(B,size,3)           # to the same batch size\n",
        "Y_Time = Time\n",
        "Time = Time.view(B,size)\n",
        "x = Y[:,0,:]\n",
        "h = None\n",
        "c = None\n",
        "divide = 0\n",
        "\n",
        "\n",
        "enter_time = []\n",
        "pass_time = []\n",
        "\n",
        "# print(Y.size())\n",
        "\n",
        "for k in range(size):\n",
        "    \n",
        "    output, h, c, hidden_u = model_low(x=x[:,:2], input=X[:,:2], h=h, c=c, mask=mask)\n",
        "    output, h, c = model_high(x=x, input=X, h=h, c=c, mask=mask, latent=hidden_u)\n",
        "    \n",
        "    sampler = torch.distributions.Categorical(output)\n",
        "    # idx = sampler.sample()         # now the idx has B elements\n",
        "    idx = torch.argmax(output, dim=1)\n",
        "\n",
        "    Y1 = Y[[i for i in range(B)], idx.data]\n",
        "    \n",
        "    if k == 0:\n",
        "        Y_ini = Y1.clone()\n",
        "    if k > 0:\n",
        "        reward = torch.norm(Y1[:,:2]-Y0[:,:2], dim=1)\n",
        "\n",
        "    Y0 = Y1.clone()\n",
        "    x = Y[[i for i in range(B)], idx.data]\n",
        "\n",
        "    solution.append(x[0,:2].cpu().numpy())\n",
        "    \n",
        "    R += reward\n",
        "    total_time_cost += reward\n",
        "    \n",
        "    # enter time\n",
        "    time = Time[[i for i in range(B)], idx.data]\n",
        "\n",
        "    # determine the total reward and current enter time\n",
        "    time_cost = torch.lt(total_time_cost, time).float()*(time - total_time_cost)  \n",
        "    \n",
        "    if time_cost.item()>0:\n",
        "        divide = k\n",
        "    \n",
        "    total_time_cost += time_cost\n",
        "    T += time_cost     # total time cost\n",
        "\n",
        "    \n",
        "    mask[[i for i in range(B)], idx.data] += -np.inf \n",
        "    \n",
        "    print(\"time:{}, distance:{}\".format(time.item(), total_time_cost.item()))\n",
        "    enter_time.append(time.item())\n",
        "    pass_time.append(total_time_cost.item())\n",
        "    \n",
        "    \n",
        "R += torch.norm(Y1[:,:2]-Y_ini[:,:2], dim=1)\n",
        "total_time_cost += torch.norm(Y1[:,:2]-Y_ini[:,:2], dim=1)\n",
        "\n",
        "\n",
        "print(\"total length:\", total_time_cost.item())\n",
        "print(\"time cost:\", T.item())\n",
        "print(\"tour lenght:\", R.item())"
      ],
      "execution_count": 0,
      "outputs": [
        {
          "output_type": "stream",
          "text": [
            "time:0.0, distance:0.0\n",
            "time:0.295327365398407, distance:0.33913496136665344\n",
            "time:0.9984871745109558, distance:0.9984871745109558\n",
            "time:0.763039231300354, distance:1.266855001449585\n",
            "time:1.268875002861023, distance:1.6089143753051758\n",
            "time:1.353973150253296, distance:1.8912614583969116\n",
            "time:0.6640166640281677, distance:1.9896411895751953\n",
            "time:2.023508310317993, distance:2.313350200653076\n",
            "time:0.36442306637763977, distance:2.387784481048584\n",
            "time:0.6906937956809998, distance:2.5786213874816895\n",
            "time:1.539695382118225, distance:2.708146810531616\n",
            "time:1.0814710855484009, distance:2.90852952003479\n",
            "time:2.9543755054473877, distance:2.9543755054473877\n",
            "time:0.6871660351753235, distance:3.2436091899871826\n",
            "time:3.2388479709625244, distance:3.348568916320801\n",
            "time:1.2242628335952759, distance:3.43845534324646\n",
            "time:2.0252959728240967, distance:3.499624729156494\n",
            "time:0.47900083661079407, distance:3.6414108276367188\n",
            "time:4.094509601593018, distance:4.094509601593018\n",
            "time:3.3222713470458984, distance:4.301178455352783\n",
            "time:4.239171028137207, distance:4.616779327392578\n",
            "time:4.632911682128906, distance:4.669863700866699\n",
            "time:1.4778172969818115, distance:4.786561489105225\n",
            "time:3.1822924613952637, distance:4.907071590423584\n",
            "time:1.8424592018127441, distance:5.078830718994141\n",
            "time:2.237530469894409, distance:5.232535362243652\n",
            "time:4.7146735191345215, distance:5.250123023986816\n",
            "time:1.2632544040679932, distance:5.3340044021606445\n",
            "time:3.7245700359344482, distance:5.512524604797363\n",
            "time:0.2505350708961487, distance:5.909144401550293\n",
            "time:4.074026107788086, distance:6.052345275878906\n",
            "time:3.401338815689087, distance:6.129876136779785\n",
            "time:4.433657646179199, distance:6.205013275146484\n",
            "time:2.8145365715026855, distance:6.405936241149902\n",
            "time:4.148168087005615, distance:6.736670017242432\n",
            "time:2.8954386711120605, distance:6.880939960479736\n",
            "time:3.4101805686950684, distance:7.030532360076904\n",
            "time:2.882981061935425, distance:7.106689453125\n",
            "time:0.8663321733474731, distance:7.244050025939941\n",
            "time:3.4774677753448486, distance:7.372501850128174\n",
            "time:2.2678780555725098, distance:7.738094806671143\n",
            "time:4.937931537628174, distance:7.905282974243164\n",
            "time:4.587130546569824, distance:8.011631965637207\n",
            "time:2.737105369567871, distance:8.071555137634277\n",
            "time:3.6433651447296143, distance:8.127467155456543\n",
            "time:3.9233431816101074, distance:8.235284805297852\n",
            "time:4.2677836418151855, distance:8.320414543151855\n",
            "time:4.9783854484558105, distance:8.710134506225586\n",
            "time:4.086057186126709, distance:8.806817054748535\n",
            "time:3.7738893032073975, distance:8.927824020385742\n",
            "total length: 9.331299781799316\n",
            "time cost: 0.4616178870201111\n",
            "tour lenght: 8.869680404663086\n"
          ],
          "name": "stdout"
        }
      ]
    },
    {
      "metadata": {
        "id": "Bi3TPVRegfQU",
        "colab_type": "code",
        "outputId": "12381ff6-8d94-437c-8f02-3db6daef9887",
        "colab": {
          "base_uri": "https://localhost:8080/",
          "height": 357
        }
      },
      "cell_type": "code",
      "source": [
        "plt.figure(figsize=(7,5))\n",
        "t = range(50)\n",
        "plt.plot(t, enter_time, label='enter time')\n",
        "plt.plot(t, pass_time, label='pass time')\n",
        "\n",
        "plt.xlabel('node', fontsize=12)\n",
        "plt.ylabel('time', fontsize=12)\n",
        "plt.legend(loc='upper right', fontsize=12)"
      ],
      "execution_count": 0,
      "outputs": [
        {
          "output_type": "execute_result",
          "data": {
            "text/plain": [
              "<matplotlib.legend.Legend at 0x7f1580392fd0>"
            ]
          },
          "metadata": {
            "tags": []
          },
          "execution_count": 530
        },
        {
          "output_type": "display_data",
          "data": {
            "image/png": "[encoded data removed]",
            "text/plain": [
              "<Figure size 504x360 with 1 Axes>"
            ]
          },
          "metadata": {
            "tags": []
          }
        }
      ]
    },
    {
      "metadata": {
        "id": "RcyAawnDsT1v",
        "colab_type": "code",
        "colab": {}
      },
      "cell_type": "code",
      "source": [
        "solution.append(solution[0])\n",
        "route = np.array(solution)"
      ],
      "execution_count": 0,
      "outputs": []
    },
    {
      "metadata": {
        "id": "jb6e9xHEsZMh",
        "colab_type": "code",
        "colab": {}
      },
      "cell_type": "code",
      "source": [
        "import matplotlib.pyplot as plt"
      ],
      "execution_count": 0,
      "outputs": []
    },
    {
      "metadata": {
        "id": "7eBq9vj1sZEg",
        "colab_type": "code",
        "outputId": "500d011b-3bce-4871-e403-290d48fb3f12",
        "colab": {
          "base_uri": "https://localhost:8080/",
          "height": 354
        }
      },
      "cell_type": "code",
      "source": [
        "plt.figure(figsize=(5,5))\n",
        "plt.plot(route[:divide,0],route[:divide,1], marker='s')\n",
        "plt.plot(route[divide-1:,0],route[divide-1:,1], marker='s')\n",
        "plt.title('cost: 9.175', fontsize=14)"
      ],
      "execution_count": 0,
      "outputs": [
        {
          "output_type": "execute_result",
          "data": {
            "text/plain": [
              "Text(0.5, 1.0, 'cost: 9.175')"
            ]
          },
          "metadata": {
            "tags": []
          },
          "execution_count": 521
        },
        {
          "output_type": "display_data",
          "data": {
            "image/png": "[encoded data removed]",
            "text/plain": [
              "<Figure size 360x360 with 1 Axes>"
            ]
          },
          "metadata": {
            "tags": []
          }
        }
      ]
    },
    {
      "metadata": {
        "id": "0j5vcFepLuHa",
        "colab_type": "code",
        "colab": {}
      },
      "cell_type": "code",
      "source": [
        "\n"
      ],
      "execution_count": 0,
      "outputs": []
    },
    {
      "metadata": {
        "id": "Rem5LA9hSm2R",
        "colab_type": "text"
      },
      "cell_type": "markdown",
      "source": [
        "# Test"
      ]
    },
    {
      "metadata": {
        "id": "Yi2tuUdRS0k0",
        "colab_type": "text"
      },
      "cell_type": "markdown",
      "source": [
        "## random test"
      ]
    },
    {
      "metadata": {
        "id": "0OD_zKSpSz7S",
        "colab_type": "code",
        "colab": {}
      },
      "cell_type": "code",
      "source": [
        "B = 1000\n",
        "size = 50\n",
        "\n",
        "X = np.random.rand(B*size, 2)\n",
        "Time = 5*np.random.rand(B*size,1)\n",
        "Time = Time.reshape(B,size,1)\n",
        "Time[:,0] = 0\n",
        "Time = Time.reshape(B*size,1)\n",
        "X = np.concatenate((X,Time), axis=1)\n",
        "\n",
        "\n",
        "X = torch.Tensor(X).cuda()\n",
        "Time = torch.Tensor(Time).cuda()\n",
        "mask = torch.zeros(B,size).cuda()\n",
        " \n",
        "    \n",
        "time_cost = 0\n",
        "total_time_cost = torch.zeros(B).cuda()\n",
        "T = torch.zeros(B).cuda()\n",
        "R = torch.zeros(B).cuda()\n",
        "reward = 0\n",
        "\n",
        "Y = X.view(B,size,3)           # to the same batch size\n",
        "Y_Time = Time\n",
        "Time = Time.view(B,size)\n",
        "x = Y[:,0,:]\n",
        "h = None\n",
        "c = None\n",
        "\n",
        "# print(Y.size())\n",
        "\n",
        "for k in range(size):\n",
        "    \n",
        "    output, h, c = model_high(x=x, input=X, h=h, c=c, mask=mask, latent=0)\n",
        "    \n",
        "    sampler = torch.distributions.Categorical(output)\n",
        "    # idx = sampler.sample()         # now the idx has B elements\n",
        "    idx = torch.argmax(output, dim=1)\n",
        "\n",
        "    Y1 = Y[[i for i in range(B)], idx.data]\n",
        "    \n",
        "    if k == 0:\n",
        "        Y_ini = Y1.clone()\n",
        "    if k > 0:\n",
        "        reward = torch.norm(Y1[:,:2]-Y0[:,:2], dim=1)\n",
        "\n",
        "    Y0 = Y1.clone()\n",
        "    x = Y[[i for i in range(B)], idx.data]\n",
        "    \n",
        "    R += reward\n",
        "    total_time_cost += reward\n",
        "    \n",
        "    # enter time\n",
        "    time = Time[[i for i in range(B)], idx.data]\n",
        "\n",
        "    # determine the total reward and current enter time\n",
        "    time_cost = torch.lt(total_time_cost, time).float()*(time - total_time_cost)  \n",
        "\n",
        "    \n",
        "    total_time_cost += time_cost\n",
        "    T += time_cost     # total time cost\n",
        "\n",
        "    \n",
        "    mask[[i for i in range(B)], idx.data] += -np.inf \n",
        "\n",
        "    \n",
        "R += torch.norm(Y1[:,:2]-Y_ini[:,:2], dim=1)\n",
        "total_time_cost += torch.norm(Y1[:,:2]-Y_ini[:,:2], dim=1)\n",
        "\n",
        "\n",
        "print(\"total time cost:\", total_time_cost.mean().item())\n",
        "print(\"time cost:\", T.mean().item())\n",
        "print(\"tour lenght:\", R.mean().item())"
      ],
      "execution_count": 0,
      "outputs": []
    },
    {
      "metadata": {
        "id": "CA3yEdi4S4v_",
        "colab_type": "text"
      },
      "cell_type": "markdown",
      "source": [
        "## held-out data test"
      ]
    },
    {
      "metadata": {
        "id": "5xfOqkVziW6_",
        "colab_type": "code",
        "colab": {}
      },
      "cell_type": "code",
      "source": [
        "from tqdm import tqdm\n",
        "import torch\n",
        "from torch.utils.data import Dataset\n",
        "import numpy as np\n",
        "import time as tm\n",
        "from scipy.spatial import distance"
      ],
      "execution_count": 0,
      "outputs": []
    },
    {
      "metadata": {
        "id": "hSjb19rLLuEz",
        "colab_type": "code",
        "colab": {}
      },
      "cell_type": "code",
      "source": [
        "# Training Data\n",
        "class TSPDataset(Dataset):\n",
        "    \n",
        "    def __init__(self, dataset_fname=None, train=False, size=50, num_samples=100000, random_seed=1111):\n",
        "        super(TSPDataset, self).__init__()\n",
        "        \n",
        "        torch.manual_seed(random_seed)\n",
        "\n",
        "        self.data_set = {\"x\":[], \"time\":[]}\n",
        "        \n",
        "        # randomly sample points uniformly from [0, 1]\n",
        "        for l in tqdm(range(num_samples)):\n",
        "            x = torch.FloatTensor(2, size).uniform_(0, 1)\n",
        "#             time = torch.cat((torch.FloatTensor(1, size).uniform_(0, 5), 1000 * torch.ones(1, size)), 0)\n",
        "            time = torch.cat((torch.FloatTensor(1, size).uniform_(0, 5), torch.FloatTensor(1, size).uniform_(1000, 1300)), 0)\n",
        "            time[0][0] = 0\n",
        "            \n",
        "            #x = torch.cat([start, x], 1)\n",
        "            self.data_set[\"x\"].append(x)\n",
        "            self.data_set[\"time\"].append(time)\n",
        "\n",
        "        self.size = len(self.data_set)\n",
        "\n",
        "    def __len__(self):\n",
        "        return self.size\n",
        "\n",
        "    def __getitem__(self, idx):\n",
        "\n",
        "        return self.data_set[\"x\"][idx], self.data_set[\"time\"][idx]"
      ],
      "execution_count": 0,
      "outputs": []
    },
    {
      "metadata": {
        "id": "ws02ctL0uCw0",
        "colab_type": "code",
        "colab": {}
      },
      "cell_type": "code",
      "source": [
        "dataset = torch.load('drive/My Drive/GCN-CO/TSPTW50_in_U05_1000.pt')"
      ],
      "execution_count": 0,
      "outputs": []
    },
    {
      "metadata": {
        "id": "j397WS0HiSwi",
        "colab_type": "code",
        "outputId": "fcf7c616-f95a-4727-9bd9-252045d3e99a",
        "colab": {
          "base_uri": "https://localhost:8080/",
          "height": 68
        }
      },
      "cell_type": "code",
      "source": [
        "B = 1000\n",
        "size = 50\n",
        "\n",
        "X = torch.zeros(B, size, 3)\n",
        "Time = torch.zeros(B, size)\n",
        "for i in range(B):\n",
        "    X[i, :,:2] = dataset[i][0].transpose(1,0)\n",
        "    X[i, :,2:] = dataset[i][1].transpose(1,0)[:,0:1]\n",
        "    Time[i, :] = dataset[i][1].transpose(1,0)[:,0]\n",
        "\n",
        "X = X.view(B*size,3).cuda()\n",
        "Time = Time.view(B*size).cuda()\n",
        "mask = torch.zeros(B,size).cuda()\n",
        " \n",
        "    \n",
        "time_cost = 0\n",
        "total_time_cost = torch.zeros(B).cuda()\n",
        "T = torch.zeros(B).cuda()\n",
        "R = torch.zeros(B).cuda()\n",
        "reward = 0\n",
        "\n",
        "Y = X.view(B,size,3)           # to the same batch size\n",
        "Y_Time = Time\n",
        "Time = Time.view(B,size)\n",
        "x = Y[:,0,:]\n",
        "h = None\n",
        "c = None\n",
        "\n",
        "# print(Y.size())\n",
        "\n",
        "for k in range(size):\n",
        "    \n",
        "    output, h, c = model_high(x=x, input=X, h=h, c=c, mask=mask, latent=0)\n",
        "    \n",
        "    sampler = torch.distributions.Categorical(output)\n",
        "    # idx = sampler.sample()         # now the idx has B elements\n",
        "    idx = torch.argmax(output, dim=1)\n",
        "\n",
        "    Y1 = Y[[i for i in range(B)], idx.data]\n",
        "    \n",
        "    if k == 0:\n",
        "        Y_ini = Y1.clone()\n",
        "    if k > 0:\n",
        "        reward = torch.norm(Y1[:,:2]-Y0[:,:2], dim=1)\n",
        "\n",
        "    Y0 = Y1.clone()\n",
        "    x = Y[[i for i in range(B)], idx.data]\n",
        "    \n",
        "    R += reward\n",
        "    total_time_cost += reward\n",
        "    \n",
        "    # enter time\n",
        "    time = Time[[i for i in range(B)], idx.data]\n",
        "\n",
        "    # determine the total reward and current enter time\n",
        "    time_cost = torch.lt(total_time_cost, time).float()*(time - total_time_cost)  \n",
        "\n",
        "    \n",
        "    total_time_cost += time_cost\n",
        "    T += time_cost     # total time cost\n",
        "\n",
        "    \n",
        "    mask[[i for i in range(B)], idx.data] += -np.inf \n",
        "\n",
        "    \n",
        "R += torch.norm(Y1[:,:2]-Y_ini[:,:2], dim=1)\n",
        "total_time_cost += torch.norm(Y1[:,:2]-Y_ini[:,:2], dim=1)\n",
        "\n",
        "\n",
        "print(\"total time cost:\", total_time_cost.mean().item())\n",
        "print(\"time cost:\", T.mean().item())\n",
        "print(\"tour lenght:\", R.mean().item())"
      ],
      "execution_count": 0,
      "outputs": [
        {
          "output_type": "stream",
          "text": [
            "total time cost: 9.619950294494629\n",
            "time cost: 0.9608845710754395\n",
            "tour lenght: 8.659066200256348\n"
          ],
          "name": "stdout"
        }
      ]
    }
  ]
}